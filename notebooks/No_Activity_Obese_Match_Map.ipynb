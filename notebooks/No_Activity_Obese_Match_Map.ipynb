{
 "cells": [
  {
   "cell_type": "code",
   "execution_count": null,
   "metadata": {},
   "outputs": [],
   "source": [
    "from shapely.geometry import Point\n",
    "import pandas as pd\n",
    "import geopandas as gpd\n",
    "import matplotlib.pyplot as plt\n",
    "import folium\n",
    "from folium.plugins import FloatImage\n",
    "from folium.plugins import MarkerCluster\n",
    "from folium.plugins import FastMarkerCluster\n",
    "import time\n",
    "import numpy as np\n",
    "import branca.colormap as cm"
   ]
  },
  {
   "cell_type": "code",
   "execution_count": null,
   "metadata": {},
   "outputs": [],
   "source": [
    "match_frame = pd.read_csv('../data/no_activity_latlon.csv')\n",
    "match_frame.head()"
   ]
  },
  {
   "cell_type": "code",
   "execution_count": null,
   "metadata": {},
   "outputs": [],
   "source": [
    "# covert string to an float64\n",
    "# have an error with string cannot be parsed , (df[pd.to_numeric(df.B, errors='coerce').isnull()]\n",
    "\n",
    "#match_frame['PopulationCount'] = match_frame[pd.to_numeric(match_frame.PopulationCount,errors='coerce').isnull()]"
   ]
  },
  {
   "cell_type": "code",
   "execution_count": null,
   "metadata": {},
   "outputs": [],
   "source": [
    "geometry = [Point(xy) for xy in zip(match_frame.n_lon, match_frame.n_lat)]\n",
    "# cluster_frame = cluster_frame.drop(['Latitude', 'Longitude'], axis=1)\n",
    "match_geo = gpd.GeoDataFrame(match_frame, crs=\"EPSG:4326\", geometry=geometry)"
   ]
  },
  {
   "cell_type": "code",
   "execution_count": null,
   "metadata": {},
   "outputs": [],
   "source": [
    "match_map = folium.Map(location = [35.123371, -85.249368], zoom_start = 12)\n",
    "folium.TileLayer('Mapbox Control Room').add_to(match_map)"
   ]
  },
  {
   "cell_type": "code",
   "execution_count": null,
   "metadata": {},
   "outputs": [],
   "source": [
    "#pop = str(match_frame['PopulationCount'])"
   ]
  },
  {
   "cell_type": "code",
   "execution_count": null,
   "metadata": {},
   "outputs": [],
   "source": [
    "# create  4 bins and the label arg to return 1 of 4 colors depending on the value of population count\n",
    "#match_frame['marker_color'] = pd.cut(match_frame['PopulationCount'], bins=4, \n",
    "                              #labels=['yellow', 'green', 'blue', 'red'])"
   ]
  },
  {
   "cell_type": "code",
   "execution_count": null,
   "metadata": {},
   "outputs": [],
   "source": [
    "for row_index, row_values in match_geo.iterrows():\n",
    "    loc = [row_values['n_lat'], row_values['n_lon']]\n",
    "    pop = 'Obese/No Activity Match:' + (' ') + 'Population Count: '+ row_values['CityName'] + row_values['PopulationCount']\n",
    "    marker = folium.Marker(\n",
    "        location = loc,\n",
    "        icon = folium.Icon(color = 'red',icon=\"user-md\", prefix = 'fa'),  #icon is not popping up ref:https://fontawesome.com/icons/weight?style=solid\n",
    "#        radius=100,\n",
    "        popup = pop,\n",
    "        #color=row['marker_color'],\n",
    "        fill=True,)\n",
    "        #color=colormap(??????))  # I want to add color scale to population count (popup with higher pop count, the darker red)\n",
    "                                    #how to add legend with the icons and color scale\n",
    "        \n",
    "    \n",
    "    marker.add_to(match_map)"
   ]
  },
  {
   "cell_type": "code",
   "execution_count": null,
   "metadata": {},
   "outputs": [],
   "source": [
    "for row_index, row_values in match_geo.iterrows():\n",
    "    loc = [row_values['o_lat'], row_values['o_lon']]\n",
    "    marker = folium.Circle(\n",
    "        location = loc,\n",
    "        radius=200,\n",
    "        fill=True,\n",
    "        color='blue') \n",
    "    \n",
    "    marker.add_to(match_map)\n",
    "\n",
    "#use imgur to upload picture and get direct link of url and ref guide is: https://flashissue.zendesk.com/hc/en-us/articles/216491878-Host-an-image-imgur-com-\n",
    "    url = ('https://i.imgur.com/erBuseO.jpg')\n",
    "folium.plugins.FloatImage(url, bottom=75, left=80).add_to(match_map)"
   ]
  },
  {
   "cell_type": "code",
   "execution_count": null,
   "metadata": {},
   "outputs": [],
   "source": [
    "match_map"
   ]
  },
  {
   "cell_type": "code",
   "execution_count": null,
   "metadata": {},
   "outputs": [],
   "source": [
    "# save maps as html file \n",
    "match_map.save('../maps/obese_no_activity_match_map.html')  \n"
   ]
  },
  {
   "cell_type": "code",
   "execution_count": null,
   "metadata": {},
   "outputs": [],
   "source": [
    "cluster_match_map = folium.Map(location =   [36.1399427822, -86.7819906718], zoom_start = 12)\n",
    "\n",
    "#create a marker cluster\n",
    "marker_cluster = MarkerCluster().add_to(cluster_match_map)\n",
    "\n",
    "# inside the loop add each markwe to the cluster\n",
    "for row_index, row_values in match_geo.iterrows():\n",
    "    loc = [row_values['n_lat'], row_values['n_lon']]\n",
    "    pop = 'Obese/No Activity Match:' + (' ') + 'Population Count: '+ row_values['PopulationCount']\n",
    "    marker = folium.Marker(\n",
    "        location = loc,\n",
    "        icon = folium.Icon(color = 'red',icon=\"user-md\", prefix = 'fa'),  #icon is not popping up ref:https://fontawesome.com/icons/weight?style=solid\n",
    "#        radius=100,\n",
    "        popup = pop,\n",
    "        #color=row['marker_color'],\n",
    "        fill=True,)\n",
    "    \n",
    "    marker.add_to(marker_cluster)"
   ]
  },
  {
   "cell_type": "code",
   "execution_count": null,
   "metadata": {},
   "outputs": [],
   "source": [
    "for row_index, row_values in match_geo.iterrows():\n",
    "    loc = [row_values['o_lat'], row_values['o_lon']]\n",
    "    marker = folium.Circle(\n",
    "        location = loc,\n",
    "        radius=200,\n",
    "        fill=True,\n",
    "        color='blue') \n",
    "    \n",
    "    marker.add_to(marker_cluster)\n",
    "\n",
    "#use imgur to upload picture and get direct link of url and ref guide is: https://flashissue.zendesk.com/hc/en-us/articles/216491878-Host-an-image-imgur-com-\n",
    "    url = ('https://i.imgur.com/erBuseO.jpg')\n",
    "folium.plugins.FloatImage(url, bottom=75, left=80).add_to(cluster_match_map)"
   ]
  },
  {
   "cell_type": "code",
   "execution_count": null,
   "metadata": {},
   "outputs": [],
   "source": [
    "cluster_match_map"
   ]
  },
  {
   "cell_type": "code",
   "execution_count": null,
   "metadata": {},
   "outputs": [],
   "source": [
    "# save map as html file \n",
    "cluster_match_map.save('../maps/obese_no_activity_cluster_match_map.html')  "
   ]
  },
  {
   "cell_type": "code",
   "execution_count": null,
   "metadata": {},
   "outputs": [],
   "source": [
    "# how to export html file from desktop to a url with http or https"
   ]
  }
 ],
 "metadata": {
  "kernelspec": {
   "display_name": "Python 3",
   "language": "python",
   "name": "python3"
  },
  "language_info": {
   "codemirror_mode": {
    "name": "ipython",
    "version": 3
   },
   "file_extension": ".py",
   "mimetype": "text/x-python",
   "name": "python",
   "nbconvert_exporter": "python",
   "pygments_lexer": "ipython3",
   "version": "3.8.5"
  }
 },
 "nbformat": 4,
 "nbformat_minor": 4
}
